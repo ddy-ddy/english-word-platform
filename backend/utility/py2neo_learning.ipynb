{
 "cells": [
  {
   "cell_type": "code",
   "execution_count": 1,
   "metadata": {
    "collapsed": true
   },
   "outputs": [],
   "source": [
    "from py2neo import Graph\n",
    "import json\n",
    "\n",
    "graph = Graph(\"bolt://localhost:7687\", auth=(\"neo4j\", \"aAabcdefg123\"))"
   ]
  },
  {
   "cell_type": "code",
   "execution_count": 3,
   "outputs": [
    {
     "name": "stdout",
     "output_type": "stream",
     "text": [
      "[{\"Lemma\": {\"pos\": \"s\", \"name\": \"implicit\", \"id\": \"implicit.s\"}, \"Synset\": {\"examples\": \"['implicit trust']\", \"pos\": \"s\", \"definition\": \"being without doubt or reserve\", \"id\": \"implicit.s.02\"}}, {\"Lemma\": {\"pos\": \"a\", \"name\": \"implicit\", \"id\": \"implicit.a\"}, \"Synset\": {\"examples\": \"['an implicit agreement not to raise the subject', 'there was implicit criticism in his voice', 'anger was implicit in the argument', 'the oak is implicit in the acorn']\", \"pos\": \"a\", \"definition\": \"implied though not directly expressed; inherent in the nature of something\", \"id\": \"implicit.a.01\"}}]\n"
     ]
    }
   ],
   "source": [
    "query = \"MATCH (Lemma)-[]->(Synset) WHERE Lemma.name = 'implicit' RETURN *\"\n",
    "result = graph.run(query)\n",
    "json_result = json.dumps(result.data(), ensure_ascii=False)\n",
    "with open('../data/result.json', 'w') as f:\n",
    "    f.write(json_result)\n",
    "print(json_result)"
   ],
   "metadata": {
    "collapsed": false,
    "pycharm": {
     "name": "#%%\n"
    }
   }
  },
  {
   "cell_type": "code",
   "execution_count": null,
   "outputs": [],
   "source": [],
   "metadata": {
    "collapsed": false,
    "pycharm": {
     "name": "#%%\n"
    }
   }
  }
 ],
 "metadata": {
  "kernelspec": {
   "display_name": "Python 3",
   "language": "python",
   "name": "python3"
  },
  "language_info": {
   "codemirror_mode": {
    "name": "ipython",
    "version": 2
   },
   "file_extension": ".py",
   "mimetype": "text/x-python",
   "name": "python",
   "nbconvert_exporter": "python",
   "pygments_lexer": "ipython2",
   "version": "2.7.6"
  }
 },
 "nbformat": 4,
 "nbformat_minor": 0
}