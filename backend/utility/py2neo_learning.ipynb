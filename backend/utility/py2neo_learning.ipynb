{
 "cells": [
  {
   "cell_type": "code",
   "execution_count": 31,
   "metadata": {
    "collapsed": true
   },
   "outputs": [],
   "source": [
    "from py2neo import Graph,NodeMatch,RelationshipMatch\n",
    "import json\n",
    "graph = Graph(\"bolt://localhost:7687\", auth=(\"neo4j\", \"aAabcdefg123\"))\n"
   ]
  },
  {
   "cell_type": "code",
   "execution_count": 41,
   "outputs": [
    {
     "name": "stdout",
     "output_type": "stream",
     "text": [
      "[{'head': (_31:Lemma {id: 'implicit.s', name: 'implicit', pos: 's'}), 'tail': (_1115:Synset {definition: 'being without doubt or reserve', examples: \"['implicit trust']\", id: 'implicit.s.02', pos: 's'})}, {'head': (_37338:Lemma {id: 'implicit.a', name: 'implicit', pos: 'a'}), 'tail': (_28088:Synset {definition: 'implied though not directly expressed; inherent in the nature of something', examples: \"['an implicit agreement not to raise the subject', 'there was implicit criticism in his voice', 'anger was implicit in the argument', 'the oak is implicit in the acorn']\", id: 'implicit.a.01', pos: 'a'})}]\n"
     ]
    }
   ],
   "source": [
    "# 构建Cypher查询语句\n",
    "query = \"match p= (head:Lemma{name:'implicit'}) - [InSynset] -> (tail:Synset) return head,tail\"\n",
    "# 执行查询\n",
    "json_data = graph.run(query).data()\n",
    "print(json_data)"
   ],
   "metadata": {
    "collapsed": false,
    "pycharm": {
     "name": "#%%\n"
    }
   }
  },
  {
   "cell_type": "code",
   "execution_count": 18,
   "outputs": [],
   "source": [],
   "metadata": {
    "collapsed": false,
    "pycharm": {
     "name": "#%%\n"
    }
   }
  },
  {
   "cell_type": "code",
   "execution_count": 18,
   "outputs": [],
   "source": [],
   "metadata": {
    "collapsed": false,
    "pycharm": {
     "name": "#%%\n"
    }
   }
  }
 ],
 "metadata": {
  "kernelspec": {
   "display_name": "Python 3",
   "language": "python",
   "name": "python3"
  },
  "language_info": {
   "codemirror_mode": {
    "name": "ipython",
    "version": 2
   },
   "file_extension": ".py",
   "mimetype": "text/x-python",
   "name": "python",
   "nbconvert_exporter": "python",
   "pygments_lexer": "ipython2",
   "version": "2.7.6"
  }
 },
 "nbformat": 4,
 "nbformat_minor": 0
}